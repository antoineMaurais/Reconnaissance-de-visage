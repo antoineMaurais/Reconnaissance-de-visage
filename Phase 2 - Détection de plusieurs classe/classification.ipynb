{
 "cells": [
  {
   "cell_type": "markdown",
   "source": [
    "## Sélectionner 1% de la base d'image"
   ],
   "metadata": {
    "collapsed": false
   },
   "id": "8f41c951d21abca3"
  },
  {
   "cell_type": "code",
   "execution_count": 2,
   "id": "initial_id",
   "metadata": {
    "collapsed": true,
    "ExecuteTime": {
     "end_time": "2023-12-20T13:33:23.711971500Z",
     "start_time": "2023-12-20T13:33:23.558524200Z"
    }
   },
   "outputs": [],
   "source": [
    "import pandas as pd\n",
    "\n",
    "# Charger les données\n",
    "data = pd.read_csv('./identity_CelebA.txt', delim_whitespace=True, header=None, names=['filename', 'label'])\n",
    "\n",
    "# Échantillonner 1% des données aléatoirement\n",
    "sampled_data = data.sample(frac=0.01, random_state=1)\n"
   ]
  },
  {
   "cell_type": "markdown",
   "source": [
    "## Étape 2 : Diviser en Ensembles d'Entraînement, de Validation et de Test"
   ],
   "metadata": {
    "collapsed": false
   },
   "id": "b161314dde329cb4"
  },
  {
   "cell_type": "code",
   "execution_count": 3,
   "outputs": [
    {
     "name": "stdout",
     "output_type": "stream",
     "text": [
      "Taille Entraînement: 1418\n",
      "Taille Validation: 304\n",
      "Taille Test: 304\n"
     ]
    }
   ],
   "source": [
    "# Diviser les données en ensembles d'entraînement, de validation et de test\n",
    "train_data = sampled_data.sample(frac=0.7, random_state=1)\n",
    "remaining = sampled_data.drop(train_data.index)\n",
    "val_data = remaining.sample(frac=0.5, random_state=1)\n",
    "test_data = remaining.drop(val_data.index)\n",
    "\n",
    "# Vérifier les tailles\n",
    "print(f'Taille Entraînement: {len(train_data)}')\n",
    "print(f'Taille Validation: {len(val_data)}')\n",
    "print(f'Taille Test: {len(test_data)}')\n"
   ],
   "metadata": {
    "collapsed": false,
    "ExecuteTime": {
     "end_time": "2023-12-20T13:33:30.252484500Z",
     "start_time": "2023-12-20T13:33:30.234999700Z"
    }
   },
   "id": "bda43b16253e2a66"
  },
  {
   "cell_type": "markdown",
   "source": [
    "## Étape 3 : Sauvegarder"
   ],
   "metadata": {
    "collapsed": false
   },
   "id": "a426d3b153a4ff6e"
  },
  {
   "cell_type": "code",
   "execution_count": 4,
   "outputs": [],
   "source": [
    "train_data.to_csv('train_set.csv', index=False)\n",
    "val_data.to_csv('val_set.csv', index=False)\n",
    "test_data.to_csv('test_set.csv', index=False)"
   ],
   "metadata": {
    "collapsed": false,
    "ExecuteTime": {
     "end_time": "2023-12-20T13:33:42.244945500Z",
     "start_time": "2023-12-20T13:33:42.225573800Z"
    }
   },
   "id": "216175b227d35d50"
  },
  {
   "cell_type": "code",
   "execution_count": null,
   "outputs": [],
   "source": [],
   "metadata": {
    "collapsed": false
   },
   "id": "3e91d57d6ef0348e"
  }
 ],
 "metadata": {
  "kernelspec": {
   "display_name": "Python 3",
   "language": "python",
   "name": "python3"
  },
  "language_info": {
   "codemirror_mode": {
    "name": "ipython",
    "version": 2
   },
   "file_extension": ".py",
   "mimetype": "text/x-python",
   "name": "python",
   "nbconvert_exporter": "python",
   "pygments_lexer": "ipython2",
   "version": "2.7.6"
  }
 },
 "nbformat": 4,
 "nbformat_minor": 5
}
