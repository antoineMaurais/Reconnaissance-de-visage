{
 "cells": [
  {
   "cell_type": "code",
   "execution_count": 1,
   "id": "initial_id",
   "metadata": {
    "collapsed": true,
    "ExecuteTime": {
     "end_time": "2024-01-10T10:39:13.711667800Z",
     "start_time": "2024-01-10T10:39:12.976196800Z"
    }
   },
   "outputs": [
    {
     "ename": "error",
     "evalue": "OpenCV(4.8.1) D:\\a\\opencv-python\\opencv-python\\opencv\\modules\\objdetect\\src\\cascadedetect.cpp:1689: error: (-215:Assertion failed) !empty() in function 'cv::CascadeClassifier::detectMultiScale'\n",
     "output_type": "error",
     "traceback": [
      "\u001B[1;31m---------------------------------------------------------------------------\u001B[0m",
      "\u001B[1;31merror\u001B[0m                                     Traceback (most recent call last)",
      "Cell \u001B[1;32mIn[1], line 54\u001B[0m\n\u001B[0;32m     51\u001B[0m     vecteurs_moyens \u001B[38;5;241m=\u001B[39m json\u001B[38;5;241m.\u001B[39mload(file)\n\u001B[0;32m     53\u001B[0m \u001B[38;5;66;03m# Vectoriser l'image d'entrée de l'utilisateur\u001B[39;00m\n\u001B[1;32m---> 54\u001B[0m nouveau_vecteur \u001B[38;5;241m=\u001B[39m \u001B[43mvectoriser_oeil\u001B[49m\u001B[43m(\u001B[49m\u001B[43mimg\u001B[49m\u001B[43m,\u001B[49m\u001B[43m \u001B[49m\u001B[43mshow_results\u001B[49m\u001B[38;5;241;43m=\u001B[39;49m\u001B[38;5;28;43;01mTrue\u001B[39;49;00m\u001B[43m,\u001B[49m\u001B[43m \u001B[49m\u001B[43mscale_factor\u001B[49m\u001B[38;5;241;43m=\u001B[39;49m\u001B[38;5;241;43m1.2\u001B[39;49m\u001B[43m)\u001B[49m\n\u001B[0;32m     56\u001B[0m \u001B[38;5;28;01mif\u001B[39;00m nouveau_vecteur \u001B[38;5;129;01mis\u001B[39;00m \u001B[38;5;28;01mNone\u001B[39;00m \u001B[38;5;129;01mor\u001B[39;00m \u001B[38;5;28mlen\u001B[39m(nouveau_vecteur) \u001B[38;5;241m==\u001B[39m \u001B[38;5;241m0\u001B[39m:\n\u001B[0;32m     57\u001B[0m     \u001B[38;5;28mprint\u001B[39m(\u001B[38;5;124m\"\u001B[39m\u001B[38;5;124mAucun œil détecté ou erreur dans la vectorisation de l\u001B[39m\u001B[38;5;124m'\u001B[39m\u001B[38;5;124mimage. Len = \u001B[39m\u001B[38;5;124m\"\u001B[39m, \u001B[38;5;28mlen\u001B[39m(nouveau_vecteur))\n",
      "File \u001B[1;32m~\\Documents\\Travail\\ENSSAT\\IA\\Analyse d'image\\RecoVis\\Phase 2\\V2\\vectoriser_oeil.py:11\u001B[0m, in \u001B[0;36mvectoriser_oeil\u001B[1;34m(photo_personnalite, face_cascade, eye_cascade, desired_width, desired_height, scale_factor, min_neighbors, show_results)\u001B[0m\n\u001B[0;32m      8\u001B[0m \u001B[38;5;28;01mdef\u001B[39;00m \u001B[38;5;21mvectoriser_oeil\u001B[39m(photo_personnalite, face_cascade\u001B[38;5;241m=\u001B[39mface_cascade, eye_cascade\u001B[38;5;241m=\u001B[39meye_cascade, desired_width\u001B[38;5;241m=\u001B[39m\u001B[38;5;241m24\u001B[39m,\n\u001B[0;32m      9\u001B[0m                     desired_height\u001B[38;5;241m=\u001B[39m\u001B[38;5;241m24\u001B[39m, scale_factor\u001B[38;5;241m=\u001B[39m\u001B[38;5;241m1.3\u001B[39m, min_neighbors\u001B[38;5;241m=\u001B[39m\u001B[38;5;241m5\u001B[39m, show_results\u001B[38;5;241m=\u001B[39m\u001B[38;5;28;01mFalse\u001B[39;00m):\n\u001B[0;32m     10\u001B[0m     gray \u001B[38;5;241m=\u001B[39m cv\u001B[38;5;241m.\u001B[39mcvtColor(photo_personnalite, cv\u001B[38;5;241m.\u001B[39mCOLOR_BGR2GRAY)\n\u001B[1;32m---> 11\u001B[0m     faces \u001B[38;5;241m=\u001B[39m \u001B[43mface_cascade\u001B[49m\u001B[38;5;241;43m.\u001B[39;49m\u001B[43mdetectMultiScale\u001B[49m\u001B[43m(\u001B[49m\u001B[43mgray\u001B[49m\u001B[43m,\u001B[49m\u001B[43m \u001B[49m\u001B[43mscale_factor\u001B[49m\u001B[43m,\u001B[49m\u001B[43m \u001B[49m\u001B[43mmin_neighbors\u001B[49m\u001B[43m)\u001B[49m\n\u001B[0;32m     13\u001B[0m     vecteurs_oeils \u001B[38;5;241m=\u001B[39m []\n\u001B[0;32m     15\u001B[0m     \u001B[38;5;28;01mfor\u001B[39;00m (x, y, w, h) \u001B[38;5;129;01min\u001B[39;00m faces:\n",
      "\u001B[1;31merror\u001B[0m: OpenCV(4.8.1) D:\\a\\opencv-python\\opencv-python\\opencv\\modules\\objdetect\\src\\cascadedetect.cpp:1689: error: (-215:Assertion failed) !empty() in function 'cv::CascadeClassifier::detectMultiScale'\n"
     ]
    }
   ],
   "source": [
    "import json\n",
    "import cv2 as cv\n",
    "\n",
    "####################################\n",
    "# Fonctions\n",
    "####################################\n",
    "from vectoriser_oeil import vectoriser_oeil\n",
    "from classifier import classifier\n",
    "from pick_random_img_in_label import pick_random_img_in_label\n",
    "from calculer_la_moyenne_du_vecteur_de_chaque_label import calculer_la_moyenne_du_vecteur_de_chaque_label\n",
    "\n",
    "####################################\n",
    "# Paramètres\n",
    "####################################\n",
    "\n",
    "face_cascade = cv.CascadeClassifier('../../Phase 1/haarcascade_frontalface_default.xml')\n",
    "eye_cascade = cv.CascadeClassifier(\"../../Phase 1/haarcascade_eye.xml\")\n",
    "\n",
    "# Image d'entrée\n",
    "img = cv.imread('../../Image/img_label_2.jpg')\n",
    "gray = cv.cvtColor(img, cv.COLOR_BGR2GRAY)\n",
    "\n",
    "# Dimension de l'image capturée pour avoir des données uniforme.\n",
    "desired_width = 24\n",
    "desired_height = 24\n",
    "\n",
    "scale_factor = 1.3 # Un facteur plus petit augmente la chance de détecter des visages plus petits, mais peut aussi augmenter les faux positifs.\n",
    "min_neighbors = 5 # Augmenter cette valeur réduit les faux positifs. Cela définit le nombre de voisins qu'un rectangle doit avoir pour être retenu.\n",
    "\n",
    "nb_label = 2 # Nombre de personnes accessible par le model. 1 label = Liste des photos d'une personne\n",
    "\n",
    "####################################\n",
    "# Création des données nécessaires\n",
    "####################################\n",
    "# (Décommenter si vous avec besoin de créer les données (cela peut prendre du temps)\n",
    "# calculer_la_moyenne_du_vecteur_de_chaque_label(2)\n",
    "\n",
    "####################################\n",
    "# Prédiction de la classe de l'image\n",
    "####################################\n",
    "\n",
    "\n",
    "# Supposons que 'nouveau_vecteur' est le vecteur de la nouvelle image\n",
    "# et que 'vecteurs_moyens' est le dictionnaire de vos vecteurs moyens\n",
    "\n",
    "# Chemin vers votre fichier JSON\n",
    "fichier_json = '../../Data/mean_vectors.json'\n",
    "\n",
    "# Charger les vecteurs moyens à partir du fichier JSON\n",
    "with open(fichier_json, 'r') as file:\n",
    "    vecteurs_moyens = json.load(file)\n",
    "\n",
    "# Vectoriser l'image d'entrée de l'utilisateur\n",
    "nouveau_vecteur = vectoriser_oeil(img, show_results=True, scale_factor=1.2)\n",
    "\n",
    "if nouveau_vecteur is None or len(nouveau_vecteur) == 0:\n",
    "    print(\"Aucun œil détecté ou erreur dans la vectorisation de l'image. Len = \", len(nouveau_vecteur))\n",
    "else:\n",
    "    classe_predite = classifier(nouveau_vecteur, vecteurs_moyens)\n",
    "    print(f\"La classe prédite pour la nouvelle image est : {classe_predite}\")\n",
    "    pick_random_img_in_label(classe_predite)"
   ]
  },
  {
   "cell_type": "code",
   "execution_count": null,
   "outputs": [],
   "source": [],
   "metadata": {
    "collapsed": false
   },
   "id": "cfebd4ed2ec454f"
  }
 ],
 "metadata": {
  "kernelspec": {
   "display_name": "Python 3",
   "language": "python",
   "name": "python3"
  },
  "language_info": {
   "codemirror_mode": {
    "name": "ipython",
    "version": 2
   },
   "file_extension": ".py",
   "mimetype": "text/x-python",
   "name": "python",
   "nbconvert_exporter": "python",
   "pygments_lexer": "ipython2",
   "version": "2.7.6"
  }
 },
 "nbformat": 4,
 "nbformat_minor": 5
}
