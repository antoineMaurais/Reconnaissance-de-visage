{
 "cells": [
  {
   "cell_type": "code",
   "execution_count": null,
   "metadata": {},
   "outputs": [],
   "source": [
    "# Définir le chemin du fichier\n",
    "fichier = 'identity_CelebA.txt'\n",
    "\n",
    "# Initialiser un ensemble (set) pour stocker les labels uniques\n",
    "labels_uniques = set()\n",
    "\n",
    "# Lire le fichier et extraire les labels\n",
    "with open(fichier, 'r') as f:\n",
    "    for ligne in f:\n",
    "        # Diviser chaque ligne en mots\n",
    "        mots = ligne.split()\n",
    "        \n",
    "        # Récupérer le label (le dernier mot sur la ligne)\n",
    "        label = mots[-1]\n",
    "        \n",
    "        # Ajouter le label à l'ensemble des labels uniques\n",
    "        labels_uniques.add(label)\n",
    "\n",
    "# Imprimer le nombre de labels uniques\n",
    "nombre_labels = len(labels_uniques)\n",
    "print(f\"Il y a {nombre_labels} labels différents dans le fichier.\")\n"
   ]
  },
  {
   "cell_type": "code",
   "execution_count": null,
   "metadata": {},
   "outputs": [],
   "source": [
    "from collections import defaultdict\n",
    "\n",
    "# Définir le chemin du fichier d'entrée et de sortie\n",
    "fichier_entree = '../identity_CelebA.txt'\n",
    "fichier_sortie = 'celebrity_trie.txt'\n",
    "\n",
    "# Initialiser un dictionnaire par label pour stocker les données triées\n",
    "donnees_par_label = defaultdict(list)\n",
    "\n",
    "# Lire le fichier et trier les données par label\n",
    "with open(fichier_entree, 'r') as f:\n",
    "    for ligne in f:\n",
    "        mots = ligne.split()\n",
    "        label = int(mots[-1])  # Convertir le label en entier\n",
    "        donnees_par_label[label].append(ligne)\n",
    "\n",
    "# Trier les données par label\n",
    "donnees_triees = []\n",
    "for label in sorted(donnees_par_label.keys()):\n",
    "    donnees_triees.extend(donnees_par_label[label])\n",
    "\n",
    "# Écrire les données triées dans un nouveau fichier\n",
    "with open(fichier_sortie, 'w') as f_sortie:\n",
    "    f_sortie.writelines(donnees_triees)\n",
    "\n",
    "print(f\"Les données ont été triées par label et enregistrées dans {fichier_sortie}.\")\n"
   ]
  }
 ],
 "metadata": {
  "language_info": {
   "name": "python"
  }
 },
 "nbformat": 4,
 "nbformat_minor": 2
}
