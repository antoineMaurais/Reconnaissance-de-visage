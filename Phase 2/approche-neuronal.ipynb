{
 "cells": [
  {
   "cell_type": "markdown",
   "source": [
    "# Approche neuronale "
   ],
   "metadata": {
    "collapsed": false
   },
   "id": "7fcb89e93deb657"
  },
  {
   "cell_type": "markdown",
   "source": [
    "## Paramètres"
   ],
   "metadata": {
    "collapsed": false
   },
   "id": "202e40d65a685d8c"
  },
  {
   "cell_type": "code",
   "execution_count": 98,
   "outputs": [],
   "source": [
    "import numpy as np\n",
    "import cv2 as cv\n",
    "\n",
    "face_cascade = cv.CascadeClassifier('../Phase 1/haarcascade_frontalface_default.xml')\n",
    "eye_cascade = cv.CascadeClassifier('../Phase 1/haarcascade_eye.xml')\n",
    "\n",
    "img = cv.imread('../Image/img_label_2.jpg')\n",
    "gray = cv.cvtColor(img, cv.COLOR_BGR2GRAY)\n",
    "\n",
    "# Dimension de l'image capturé pour avoir des données uniforme.\n",
    "desired_width = 24\n",
    "desired_height = 24\n",
    "\n",
    "scale_factor = 1.3 # Un facteur plus petit augmente la chance de détecter des visages plus petits, mais peut aussi augmenter les faux positifs.\n",
    "min_neighbors = 5 # Augmenter cette valeur réduit les faux positifs. Cela définit le nombre de voisins qu'un rectangle doit avoir pour être retenu.\n",
    "\n",
    "nb_label = 2;"
   ],
   "metadata": {
    "collapsed": false,
    "ExecuteTime": {
     "end_time": "2023-12-22T10:51:43.239472500Z",
     "start_time": "2023-12-22T10:51:43.209732100Z"
    }
   },
   "id": "7c17d46825ff3352"
  },
  {
   "cell_type": "markdown",
   "source": [
    "## Détection des yeux d'un viage, et création d'un vecteur à partir des yeux détecté."
   ],
   "metadata": {
    "collapsed": false
   },
   "id": "7fefe997e963a373"
  },
  {
   "cell_type": "code",
   "execution_count": 99,
   "outputs": [],
   "source": [
    "import cv2 as cv\n",
    "import numpy as np\n",
    "import matplotlib.pyplot as plt\n",
    "\n",
    "def vectoriser_oeil(photoPersonnalité, face_cascade = face_cascade, eye_cascade = eye_cascade, desired_width = 24, desired_height = 24, scale_factor=1.3, min_neighbors=5, show_results=False):\n",
    "    gray = cv.cvtColor(photoPersonnalité, cv.COLOR_BGR2GRAY)\n",
    "    faces = face_cascade.detectMultiScale(gray, scale_factor, min_neighbors)\n",
    "\n",
    "    vecteurs_oeils = []\n",
    "\n",
    "    for (x, y, w, h) in faces:\n",
    "        roi_gray = gray[y:y+h, x:x+w]\n",
    "        eyes = eye_cascade.detectMultiScale(roi_gray)\n",
    "        if len(eyes) == 0:\n",
    "            # Aucun œil détecté\n",
    "            return None \n",
    "        for (ex, ey, ew, eh) in eyes:\n",
    "            eye_roi = roi_gray[ey: ey + eh, ex: ex + ew]\n",
    "            resized_eye = cv.resize(eye_roi, (desired_width, desired_height))\n",
    "            eye_vector_normalized = resized_eye.flatten() / 255.0\n",
    "            vecteurs_oeils.append(eye_vector_normalized)\n",
    "\n",
    "            if show_results:\n",
    "                plt.imshow(cv.resize(eye_roi, (desired_width, desired_height)), cmap='gray')\n",
    "                plt.title(\"Œil Détecté\")\n",
    "                plt.show()\n",
    "                plt.plot(eye_vector_normalized)\n",
    "                plt.title(\"Vecteur de l'Œil Normalisé\")\n",
    "                plt.show()\n",
    "\n",
    "    return vecteurs_oeils\n",
    "        \n",
    "# vectoriser_oeil(img, show_results=False, scale_factor=1.2)\n",
    "# Maintenant, eye_vector_normalized peut être utilisé pour l'apprentissage\n",
    "# eye_vector_normalized"
   ],
   "metadata": {
    "collapsed": false,
    "ExecuteTime": {
     "end_time": "2023-12-22T10:51:46.509709500Z",
     "start_time": "2023-12-22T10:51:46.502867200Z"
    }
   },
   "id": "59d431365f591354"
  },
  {
   "cell_type": "code",
   "execution_count": 89,
   "outputs": [],
   "source": [
    "# Étape 1 : Lire le Fichier JSON\n",
    "\n",
    "import json\n",
    "\n",
    "# Charger le fichier JSON\n",
    "with open('../Data/sorted_by_label.json', 'r') as file:\n",
    "    data = json.load(file)\n",
    "\n",
    "# Utiliser seulement les 30 premiers labels\n",
    "selected_labels = list(data['data'].keys())[:nb_label]\n"
   ],
   "metadata": {
    "collapsed": false,
    "ExecuteTime": {
     "end_time": "2023-12-22T10:45:55.804617500Z",
     "start_time": "2023-12-22T10:45:55.764663900Z"
    }
   },
   "id": "a16358328eac0f55"
  },
  {
   "cell_type": "code",
   "execution_count": 90,
   "outputs": [
    {
     "name": "stdout",
     "output_type": "stream",
     "text": [
      "Aucun œil détecté pour l'image 090781.jpg\n",
      "Aucun œil détecté pour l'image 142874.jpg\n",
      "Aucun œil détecté pour l'image 157602.jpg\n"
     ]
    }
   ],
   "source": [
    "# Étape 2 : Calculer les Vecteurs pour Chaque Image\n",
    "\n",
    "vectors_by_class = {label: [] for label in selected_labels}\n",
    "\n",
    "for label in selected_labels:\n",
    "    for image_name in data['data'][label]:\n",
    "        img_path = f'../Image/img_align_celeba/img_align_celeba/{image_name}'\n",
    "        img = cv.imread(img_path)\n",
    "        # Assurez-vous que l'image a été chargée correctement\n",
    "        if img is not None:\n",
    "            vecteurs = vectoriser_oeil(img, show_results=False)\n",
    "            if vecteurs is not None:\n",
    "                vectors_by_class[label].extend(vecteurs)\n",
    "            else:\n",
    "                print(f\"Aucun œil détecté pour l'image {image_name}\")\n"
   ],
   "metadata": {
    "collapsed": false,
    "ExecuteTime": {
     "end_time": "2023-12-22T10:45:56.069023800Z",
     "start_time": "2023-12-22T10:45:55.807171200Z"
    }
   },
   "id": "eb8d405fab6529d5"
  },
  {
   "cell_type": "code",
   "execution_count": 91,
   "outputs": [
    {
     "name": "stdout",
     "output_type": "stream",
     "text": [
      "Success : Les vecteurs pour le label 1 ont pas la même longueur.\n",
      "Success : Les vecteurs pour le label 2 ont pas la même longueur.\n"
     ]
    }
   ],
   "source": [
    "# Étape 3 : Calculer le Vecteur Moyen pour Chaque Label\n",
    "\n",
    "mean_vectors = {}\n",
    "for label, vectors in vectors_by_class.items():\n",
    "    # Vérifier que tous les vecteurs ont la même longueur\n",
    "    if all(len(vec) == len(vectors[0]) for vec in vectors):\n",
    "        mean_vectors[label] = np.mean(vectors, axis=0).tolist()\n",
    "        print(f\"Success : Les vecteurs pour le label {label} ont pas la même longueur.\")\n",
    "    else:\n",
    "        print(f\"Erreur : Les vecteurs pour le label {label} n'ont pas la même longueur.\")\n",
    "\n"
   ],
   "metadata": {
    "collapsed": false,
    "ExecuteTime": {
     "end_time": "2023-12-22T10:45:56.074029700Z",
     "start_time": "2023-12-22T10:45:56.066642300Z"
    }
   },
   "id": "e27e84317fa1a3f0"
  },
  {
   "cell_type": "code",
   "execution_count": 92,
   "outputs": [],
   "source": [
    "# Étape 4 : Enregistrer en Format JSON\n",
    "\n",
    "with open('../Data/mean_vectors.json', 'w') as json_file:\n",
    "    json.dump(mean_vectors, json_file, indent=4) # Indent = Nombre d'espace à chaque colonne du fichier JSON (améliore la lecture du fichier)\n",
    "    \n",
    "# Ici, on obtient le vecteur moyen des yeux observé pour chaque label de personnes.\n"
   ],
   "metadata": {
    "collapsed": false,
    "ExecuteTime": {
     "end_time": "2023-12-22T10:45:56.081869700Z",
     "start_time": "2023-12-22T10:45:56.071443300Z"
    }
   },
   "id": "b5b31c92ed4b2be6"
  },
  {
   "cell_type": "code",
   "execution_count": 100,
   "outputs": [],
   "source": [
    "# Étape 5 : Classification \n",
    "\n",
    "def classifier(nouveau_vecteur, vecteurs_moyens):\n",
    "    classe_plus_proche = None\n",
    "    distance_minimale = float('inf')\n",
    "\n",
    "    for label, vecteur_moyen in vecteurs_moyens.items():\n",
    "        distance = np.linalg.norm(np.array(nouveau_vecteur) - np.array(vecteur_moyen))\n",
    "        if distance < distance_minimale:\n",
    "            distance_minimale = distance\n",
    "            classe_plus_proche = label\n",
    "\n",
    "    return classe_plus_proche\n"
   ],
   "metadata": {
    "collapsed": false,
    "ExecuteTime": {
     "end_time": "2023-12-22T10:51:51.451524800Z",
     "start_time": "2023-12-22T10:51:51.446129600Z"
    }
   },
   "id": "f463e2bc885138ab"
  },
  {
   "cell_type": "code",
   "execution_count": 102,
   "outputs": [
    {
     "name": "stdout",
     "output_type": "stream",
     "text": [
      "La classe prédite pour la nouvelle image est : 2\n"
     ]
    }
   ],
   "source": [
    "import json\n",
    "\n",
    "# Supposons que 'nouveau_vecteur' est le vecteur de la nouvelle image\n",
    "# et que 'vecteurs_moyens' est le dictionnaire de vos vecteurs moyens\n",
    "\n",
    "# Chemin vers votre fichier JSON\n",
    "fichier_json = '../Data/mean_vectors_2_labels.json'\n",
    "\n",
    "# Charger les vecteurs moyens à partir du fichier JSON\n",
    "with open(fichier_json, 'r') as file:\n",
    "    vecteurs_moyens = json.load(file)\n",
    "    \n",
    "# nouveau_vecteur = vectoriser_oeil(img, show_results=True, scale_factor=1.2)\n",
    "nouveau_vecteur = vectoriser_oeil(img, show_results=False, scale_factor=1.2)\n",
    "if nouveau_vecteur is None or len(nouveau_vecteur) == 0:\n",
    "    print(\"Aucun œil détecté ou erreur dans la vectorisation de l'image. Len = \", len(nouveau_vecteur))\n",
    "else:\n",
    "    classe_predite = classifier(nouveau_vecteur, vecteurs_moyens)\n",
    "    print(f\"La classe prédite pour la nouvelle image est : {classe_predite}\")"
   ],
   "metadata": {
    "collapsed": false,
    "ExecuteTime": {
     "end_time": "2023-12-22T10:52:07.104479800Z",
     "start_time": "2023-12-22T10:52:07.083737200Z"
    }
   },
   "id": "36c35f6c5ac0b29d"
  },
  {
   "cell_type": "code",
   "execution_count": 94,
   "outputs": [],
   "source": [],
   "metadata": {
    "collapsed": false,
    "ExecuteTime": {
     "end_time": "2023-12-22T10:45:56.151595800Z",
     "start_time": "2023-12-22T10:45:56.118386900Z"
    }
   },
   "id": "dd445afe3c6f0d4f"
  }
 ],
 "metadata": {
  "kernelspec": {
   "display_name": "Python 3",
   "language": "python",
   "name": "python3"
  },
  "language_info": {
   "codemirror_mode": {
    "name": "ipython",
    "version": 2
   },
   "file_extension": ".py",
   "mimetype": "text/x-python",
   "name": "python",
   "nbconvert_exporter": "python",
   "pygments_lexer": "ipython2",
   "version": "2.7.6"
  }
 },
 "nbformat": 4,
 "nbformat_minor": 5
}
