{
 "cells": [
  {
   "cell_type": "code",
   "execution_count": 5,
   "outputs": [],
   "source": [
    "import cv2 as cv\n",
    "\n",
    "face_cascade = cv.CascadeClassifier('./Ressources/haarcascade_frontalface_default.xml')\n",
    "eye_cascade = cv.CascadeClassifier('./Ressources/haarcascade_eye.xml')\n",
    "\n",
    "img = cv.imread('../Image/img_label_3.jpg')\n",
    "gray = cv.cvtColor(img, cv.COLOR_BGR2GRAY)\n",
    "\n",
    "# Dimension de l'image capturée pour avoir des données uniforme.\n",
    "desired_width = 24\n",
    "desired_height = 24\n",
    "\n",
    "scale_factor = 1.3 # Un facteur plus petit augmente la chance de détecter des visages plus petits, mais peut aussi augmenter les faux positifs.\n",
    "min_neighbors = 5 # Augmenter cette valeur réduit les faux positifs. Cela définit le nombre de voisins qu'un rectangle doit avoir pour être retenu.\n",
    "\n",
    "nb_label = 30;"
   ],
   "metadata": {
    "collapsed": false,
    "ExecuteTime": {
     "end_time": "2024-02-14T20:43:34.799622800Z",
     "start_time": "2024-02-14T20:43:34.769320300Z"
    }
   },
   "id": "b48b0f16736976d"
  },
  {
   "cell_type": "code",
   "execution_count": 8,
   "id": "initial_id",
   "metadata": {
    "collapsed": true,
    "ExecuteTime": {
     "end_time": "2024-02-14T20:44:11.370082Z",
     "start_time": "2024-02-14T20:44:11.356470100Z"
    }
   },
   "outputs": [],
   "source": [
    "def vectorize_both_eyes(img, show_results=False):\n",
    "    # Convertir l'image en niveaux de gris\n",
    "    gray = cv.cvtColor(img, cv.COLOR_BGR2GRAY)\n",
    "    \n",
    "    # Détecter les yeux dans l'image\n",
    "    eyes = eye_cascade.detectMultiScale(gray, 1.1, 4)\n",
    "    \n",
    "    # Initialiser les vecteurs des yeux comme None\n",
    "    vecteur_oeil_droit, vecteur_oeil_gauche = None, None\n",
    "    \n",
    "    # Trier les yeux détectés par leur coordonnée x (le plus à gauche d'abord)\n",
    "    sorted_eyes = sorted(eyes, key=lambda x: x[0])\n",
    "    \n",
    "    # Assigner l'œil gauche et droit en fonction de leur position x\n",
    "    for i, eye in enumerate(sorted_eyes):\n",
    "        x, y, w, h = eye\n",
    "        eye_region = gray[y:y+h, x:x+w]\n",
    "        vecteur = eye_region.flatten()\n",
    "        if i == 0:  # Premier œil (le plus à gauche)\n",
    "            vecteur_oeil_gauche = vecteur\n",
    "        elif i == 1:  # Deuxième œil (le plus à droite)\n",
    "            vecteur_oeil_droit = vecteur\n",
    "        if show_results:\n",
    "            cv.imshow(f'Œil {i+1}', eye_region)\n",
    "    \n",
    "    # Afficher les résultats si demandé\n",
    "    if show_results and vecteur_oeil_gauche is not None and vecteur_oeil_droit is not None:\n",
    "        cv.waitKey(0)\n",
    "        cv.destroyAllWindows()\n",
    "    \n",
    "    return vecteur_oeil_droit, vecteur_oeil_gauche\n"
   ]
  },
  {
   "cell_type": "code",
   "execution_count": 9,
   "outputs": [],
   "source": [
    "# Étape 1 : Lire le Fichier JSON\n",
    "import json\n",
    "import numpy as np\n",
    "import cv2 as cv\n",
    "\n",
    "# Charger le fichier JSON\n",
    "with open('../Data/sorted_by_label.json', 'r') as file:\n",
    "    data = json.load(file)\n",
    "\n",
    "# Utiliser seulement les nb_label premiers labels\n",
    "selected_labels = list(data['data'].keys())[:nb_label]\n",
    "\n",
    "# Étape 2 : Calculer les Vecteurs pour Chaque Œil de Chaque Image\n",
    "vectors_by_class = {label: {'right_eye': [], 'left_eye': []} for label in selected_labels}\n",
    "\n",
    "for label in selected_labels:\n",
    "    for image_name in data['data'][label]:\n",
    "        img_path = f'../Image/img_align_celeba/img_align_celeba/{image_name}'\n",
    "        img = cv.imread(img_path)\n",
    "        if img is not None:\n",
    "            # Supposons que vectoriser_oeil_v2 retourne un tuple (vecteur_oeil_droit, vecteur_oeil_gauche)\n",
    "            vecteur_oeil_droit, vecteur_oeil_gauche = vectorize_both_eyes(img, show_results=False)\n",
    "            if vecteur_oeil_droit is not None:\n",
    "                vectors_by_class[label]['right_eye'].append(vecteur_oeil_droit)\n",
    "            if vecteur_oeil_gauche is not None:\n",
    "                vectors_by_class[label]['left_eye'].append(vecteur_oeil_gauche)\n",
    "\n",
    "# Étape 3 : Calculer le Vecteur Moyen pour l'Œil Droit et l'Œil Gauche de Chaque Label\n",
    "mean_vectors = {label: {'right_eye': None, 'left_eye': None} for label in selected_labels}\n",
    "\n",
    "for label, eyes_vectors in vectors_by_class.items():\n",
    "    for eye, vectors in eyes_vectors.items():\n",
    "        if vectors:\n",
    "            mean_vectors[label][eye] = np.mean(vectors, axis=0).tolist()\n",
    "\n",
    "# Étape 4 : Enregistrer en Format JSON\n",
    "with open('../Data/mean_vectors_by_eye.json', 'w') as json_file:\n",
    "    json.dump(mean_vectors, json_file, indent=4)\n"
   ],
   "metadata": {
    "collapsed": false,
    "ExecuteTime": {
     "end_time": "2024-02-14T20:44:15.280341500Z",
     "start_time": "2024-02-14T20:44:15.216765300Z"
    }
   },
   "id": "a9d651027a7c39b5"
  },
  {
   "cell_type": "code",
   "execution_count": null,
   "outputs": [],
   "source": [],
   "metadata": {
    "collapsed": false
   },
   "id": "60cb580defae23f1"
  }
 ],
 "metadata": {
  "kernelspec": {
   "display_name": "Python 3",
   "language": "python",
   "name": "python3"
  },
  "language_info": {
   "codemirror_mode": {
    "name": "ipython",
    "version": 2
   },
   "file_extension": ".py",
   "mimetype": "text/x-python",
   "name": "python",
   "nbconvert_exporter": "python",
   "pygments_lexer": "ipython2",
   "version": "2.7.6"
  }
 },
 "nbformat": 4,
 "nbformat_minor": 5
}
