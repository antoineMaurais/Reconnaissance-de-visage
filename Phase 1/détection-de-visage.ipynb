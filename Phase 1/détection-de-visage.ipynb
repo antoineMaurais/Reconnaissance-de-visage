{
 "cells": [
  {
   "cell_type": "markdown",
   "source": [
    "# Détection de visage\n",
    "\n",
    "Ce notebook implémente un système simple de détection de visages et d'yeux en utilisant la bibliothèque OpenCV. Il illustre comment charger, prétraiter une image et utiliser des classifieurs en cascade Haar pour identifier et marquer les visages et les yeux dans une image."
   ],
   "metadata": {
    "collapsed": false
   }
  },
  {
   "cell_type": "code",
   "execution_count": 1,
   "metadata": {
    "ExecuteTime": {
     "end_time": "2024-02-14T20:48:22.077621200Z",
     "start_time": "2024-02-14T20:48:21.662360900Z"
    }
   },
   "outputs": [],
   "source": [
    "# Importation des bibliothèques nécessaires\n",
    "import cv2 as cv\n",
    "\n",
    "# Chargement des classifieurs en cascade pour les visages\n",
    "face_cascade = cv.CascadeClassifier('./Ressources/haarcascade_frontalface_default.xml')\n",
    "eye_cascade = cv.CascadeClassifier('./Ressources/haarcascade_eye.xml')\n",
    "\n",
    "# Lecture de l'image et conversion en niveaux de gris pour le traitement\n",
    "img = cv.imread('../Image/image.jpg')\n",
    "gray = cv.cvtColor(img, cv.COLOR_BGR2GRAY)"
   ]
  },
  {
   "cell_type": "code",
   "execution_count": 2,
   "metadata": {
    "ExecuteTime": {
     "end_time": "2024-02-14T20:48:34.081691800Z",
     "start_time": "2024-02-14T20:48:24.108556Z"
    }
   },
   "outputs": [],
   "source": [
    "# Détection des visages dans l'image\n",
    "faces = face_cascade.detectMultiScale(gray, 1.3, 5)\n",
    "for (x,y,w,h) in faces:\n",
    "    # Dessin d'un rectangle autour de chaque visage détecté\n",
    "    cv.rectangle(img,(x,y),(x+w,y+h),(255,0,0),2)\n",
    "    roi_gray = gray[y:y+h, x:x+w]\n",
    "    roi_color = img[y:y+h, x:x+w]\n",
    "    # Détection des yeux dans la région du visag\n",
    "    eyes = eye_cascade.detectMultiScale(roi_gray)\n",
    "    for (ex,ey,ew,eh) in eyes:\n",
    "        # Dessin d'un rectangle autour de chaque œil détecté\n",
    "        cv.rectangle(roi_color,(ex,ey),(ex+ew,ey+eh),(0,255,0),2)\n",
    "# Affichage de l'image avec les marqueurs\n",
    "cv.imshow('img',img)\n",
    "cv.waitKey(0)\n",
    "cv.destroyAllWindows()"
   ]
  },
  {
   "cell_type": "markdown",
   "source": [
    "**Attention parfois la fênetre de l'image s'ouvre derrière l'IDE**"
   ],
   "metadata": {
    "collapsed": false
   }
  },
  {
   "cell_type": "code",
   "execution_count": null,
   "outputs": [],
   "source": [],
   "metadata": {
    "collapsed": false
   }
  }
 ],
 "metadata": {
  "kernelspec": {
   "display_name": "Python 3",
   "language": "python",
   "name": "python3"
  },
  "language_info": {
   "codemirror_mode": {
    "name": "ipython",
    "version": 3
   },
   "file_extension": ".py",
   "mimetype": "text/x-python",
   "name": "python",
   "nbconvert_exporter": "python",
   "pygments_lexer": "ipython3",
   "version": "3.10.12"
  }
 },
 "nbformat": 4,
 "nbformat_minor": 2
}
