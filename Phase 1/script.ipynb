{
 "cells": [
  {
   "cell_type": "code",
   "execution_count": 1,
   "metadata": {},
   "outputs": [
    {
     "name": "stdout",
     "output_type": "stream",
     "text": [
      "hello\n"
     ]
    }
   ],
   "source": [
    "print(\"hello\")"
   ]
  },
  {
   "cell_type": "code",
   "execution_count": 2,
   "metadata": {},
   "outputs": [],
   "source": [
    "import numpy as np\n",
    "import cv2 as cv\n",
    "\n",
    "face_cascade = cv.CascadeClassifier('haarcascade_frontalface_default.xml')\n",
    "eye_cascade = cv.CascadeClassifier('haarcascade_eye.xml')\n",
    "\n",
    "img = cv.imread('image.jpg')\n",
    "gray = cv.cvtColor(img, cv.COLOR_BGR2GRAY)"
   ]
  },
  {
   "cell_type": "code",
   "execution_count": 3,
   "metadata": {},
   "outputs": [
    {
     "name": "stderr",
     "output_type": "stream",
     "text": [
      "qt.qpa.plugin: Could not find the Qt platform plugin \"wayland\" in \"/home/antoine/.local/lib/python3.10/site-packages/cv2/qt/plugins\"\n"
     ]
    }
   ],
   "source": [
    "faces = face_cascade.detectMultiScale(gray, 1.3, 5)\n",
    "for (x,y,w,h) in faces:\n",
    "    cv.rectangle(img,(x,y),(x+w,y+h),(255,0,0),2)\n",
    "    roi_gray = gray[y:y+h, x:x+w]\n",
    "    roi_color = img[y:y+h, x:x+w]\n",
    "    eyes = eye_cascade.detectMultiScale(roi_gray)\n",
    "    for (ex,ey,ew,eh) in eyes:\n",
    "        cv.rectangle(roi_color,(ex,ey),(ex+ew,ey+eh),(0,255,0),2)\n",
    "cv.imshow('img',img)\n",
    "cv.waitKey(0)\n",
    "cv.destroyAllWindows()"
   ]
  },
  {
   "cell_type": "code",
   "execution_count": 2,
   "metadata": {},
   "outputs": [
    {
     "name": "stdout",
     "output_type": "stream",
     "text": [
      "Il y a 10177 labels différents dans le fichier.\n"
     ]
    }
   ],
   "source": [
    "# Définir le chemin du fichier\n",
    "fichier = '../identity_CelebA.txt'\n",
    "\n",
    "# Initialiser un ensemble (set) pour stocker les labels uniques\n",
    "labels_uniques = set()\n",
    "\n",
    "# Lire le fichier et extraire les labels\n",
    "with open(fichier, 'r') as f:\n",
    "    for ligne in f:\n",
    "        # Diviser chaque ligne en mots\n",
    "        mots = ligne.split()\n",
    "        \n",
    "        # Récupérer le label (le dernier mot sur la ligne)\n",
    "        label = mots[-1]\n",
    "        \n",
    "        # Ajouter le label à l'ensemble des labels uniques\n",
    "        labels_uniques.add(label)\n",
    "\n",
    "# Imprimer le nombre de labels uniques\n",
    "nombre_labels = len(labels_uniques)\n",
    "print(f\"Il y a {nombre_labels} labels différents dans le fichier.\")\n"
   ]
  },
  {
   "cell_type": "code",
   "execution_count": 3,
   "metadata": {},
   "outputs": [
    {
     "name": "stdout",
     "output_type": "stream",
     "text": [
      "Les données ont été triées par label et enregistrées dans celebrity_trie.txt.\n"
     ]
    }
   ],
   "source": [
    "from collections import defaultdict\n",
    "\n",
    "# Définir le chemin du fichier d'entrée et de sortie\n",
    "fichier_entree = '../identity_CelebA.txt'\n",
    "fichier_sortie = 'celebrity_trie.txt'\n",
    "\n",
    "# Initialiser un dictionnaire par label pour stocker les données triées\n",
    "donnees_par_label = defaultdict(list)\n",
    "\n",
    "# Lire le fichier et trier les données par label\n",
    "with open(fichier_entree, 'r') as f:\n",
    "    for ligne in f:\n",
    "        mots = ligne.split()\n",
    "        label = int(mots[-1])  # Convertir le label en entier\n",
    "        donnees_par_label[label].append(ligne)\n",
    "\n",
    "# Trier les données par label\n",
    "donnees_triees = []\n",
    "for label in sorted(donnees_par_label.keys()):\n",
    "    donnees_triees.extend(donnees_par_label[label])\n",
    "\n",
    "# Écrire les données triées dans un nouveau fichier\n",
    "with open(fichier_sortie, 'w') as f_sortie:\n",
    "    f_sortie.writelines(donnees_triees)\n",
    "\n",
    "print(f\"Les données ont été triées par label et enregistrées dans {fichier_sortie}.\")\n"
   ]
  }
 ],
 "metadata": {
  "kernelspec": {
   "display_name": "Python 3",
   "language": "python",
   "name": "python3"
  },
  "language_info": {
   "codemirror_mode": {
    "name": "ipython",
    "version": 3
   },
   "file_extension": ".py",
   "mimetype": "text/x-python",
   "name": "python",
   "nbconvert_exporter": "python",
   "pygments_lexer": "ipython3",
   "version": "3.10.12"
  }
 },
 "nbformat": 4,
 "nbformat_minor": 2
}
