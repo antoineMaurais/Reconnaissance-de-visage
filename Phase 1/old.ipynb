{
 "cells": [
  {
   "cell_type": "markdown",
   "source": [
    "# Approche neuronale "
   ],
   "metadata": {
    "collapsed": false
   },
   "id": "7fcb89e93deb657"
  },
  {
   "cell_type": "markdown",
   "source": [
    "## Paramètres"
   ],
   "metadata": {
    "collapsed": false
   },
   "id": "202e40d65a685d8c"
  },
  {
   "cell_type": "code",
   "execution_count": 1,
   "outputs": [],
   "source": [
    "import cv2 as cv\n",
    "\n",
    "face_cascade = cv.CascadeClassifier('../Phase 1/haarcascade_frontalface_default.xml')\n",
    "eye_cascade = cv.CascadeClassifier('../Phase 1/haarcascade_eye.xml')\n",
    "\n",
    "img = cv.imread('../Image/img_label_3.jpg')\n",
    "gray = cv.cvtColor(img, cv.COLOR_BGR2GRAY)\n",
    "\n",
    "# Dimension de l'image capturée pour avoir des données uniforme.\n",
    "desired_width = 24\n",
    "desired_height = 24\n",
    "\n",
    "scale_factor = 1.3 # Un facteur plus petit augmente la chance de détecter des visages plus petits, mais peut aussi augmenter les faux positifs.\n",
    "min_neighbors = 5 # Augmenter cette valeur réduit les faux positifs. Cela définit le nombre de voisins qu'un rectangle doit avoir pour être retenu.\n",
    "\n",
    "nb_label = 30;"
   ],
   "metadata": {
    "collapsed": false,
    "ExecuteTime": {
     "end_time": "2024-02-07T11:19:57.904120Z",
     "start_time": "2024-02-07T11:19:57.803331800Z"
    }
   },
   "id": "7c17d46825ff3352"
  },
  {
   "cell_type": "markdown",
   "source": [
    "## Détection des yeux d'un viage, et création d'un vecteur à partir des yeux détecté."
   ],
   "metadata": {
    "collapsed": false
   },
   "id": "7fefe997e963a373"
  },
  {
   "cell_type": "code",
   "execution_count": 10,
   "outputs": [],
   "source": [
    "import cv2 as cv\n",
    "import numpy as np\n",
    "    \n",
    "def vectoriser_oeil(photo_personnalite, face_cascade = face_cascade, eye_cascade = eye_cascade, desired_width = 24, desired_height = 24, scale_factor=1.3, min_neighbors=5, show_results=False):\n",
    "    gray = cv.cvtColor(photo_personnalite, cv.COLOR_BGR2GRAY)\n",
    "    faces = face_cascade.detectMultiScale(gray, scale_factor, min_neighbors)\n",
    "\n",
    "    vecteurs_oeils = []\n",
    "\n",
    "    for (x, y, w, h) in faces:\n",
    "        roi_gray = gray[y:y+h, x:x+w]\n",
    "        eyes = eye_cascade.detectMultiScale(roi_gray)\n",
    "        if len(eyes) == 0:\n",
    "            # Aucun œil détecté\n",
    "            return None \n",
    "        for (ex, ey, ew, eh) in eyes:\n",
    "            eye_roi = roi_gray[ey: ey + eh, ex: ex + ew]\n",
    "            resized_eye = cv.resize(eye_roi, (desired_width, desired_height))\n",
    "            eye_vector_normalized = resized_eye.flatten() / 255.0\n",
    "            vecteurs_oeils.append(eye_vector_normalized)\n",
    "\n",
    "            if show_results:\n",
    "                cv.rectangle(photo_personnalite, (x+ex, y+ey), (x+ex+ew, y+ey+eh), (0, 255, 0), 2)\n",
    "\n",
    "                plt.imshow(photo_personnalite)\n",
    "                plt.imshow(cv.cvtColor(photo_personnalite, cv.COLOR_BGR2RGB))\n",
    "                plt.title(\"Image d'entré\")\n",
    "                plt.show()\n",
    "                \n",
    "                plt.imshow(cv.resize(eye_roi, (desired_width, desired_height)), cmap='gray')\n",
    "                plt.title(\"Œil Détecté\")\n",
    "                plt.show()\n",
    "                \n",
    "                plt.plot(eye_vector_normalized)\n",
    "                plt.title(\"Vecteur de l'Œil Normalisé\")\n",
    "                plt.show()\n",
    "\n",
    "    return vecteurs_oeils\n",
    "        \n",
    "# vectoriser_oeil(img, show_results=True, scale_factor=1.2)\n",
    "# Maintenant, eye_vector_normalized peut être utilisé pour l'apprentissage\n",
    "# eye_vector_normalized"
   ],
   "metadata": {
    "collapsed": false,
    "ExecuteTime": {
     "end_time": "2024-01-22T09:58:07.038045700Z",
     "start_time": "2024-01-22T09:58:07.034281700Z"
    }
   },
   "id": "59d431365f591354"
  },
  {
   "cell_type": "code",
   "execution_count": 2,
   "outputs": [],
   "source": [
    "# Pour mettre à jour la fonction, nous allons supposer que les cascades sont chargées et passées à la fonction.\n",
    "# Voici la fonction mise à jour qui dessine des rectangles autour des yeux détectés :\n",
    "\n",
    "import cv2 as cv\n",
    "import numpy as np\n",
    "from matplotlib import pyplot as plt\n",
    "\n",
    "def vectoriser_oeil_v2(photo_personnalite, face_cascade = face_cascade, eye_cascade = eye_cascade, desired_width=24, desired_height=24, scale_factor=1.3, min_neighbors=5, show_results=False):\n",
    "    gray = cv.cvtColor(photo_personnalite, cv.COLOR_BGR2GRAY)\n",
    "    faces = face_cascade.detectMultiScale(gray, scale_factor, min_neighbors)\n",
    "\n",
    "    vecteurs_oeils = []\n",
    "\n",
    "    for (x, y, w, h) in faces:\n",
    "        roi_gray = gray[y:y+h, x:x+w]\n",
    "        eyes = eye_cascade.detectMultiScale(roi_gray)\n",
    "        if len(eyes) == 0:\n",
    "            # Aucun œil détecté\n",
    "            return None \n",
    "        for (ex, ey, ew, eh) in eyes:\n",
    "            eye_roi = roi_gray[ey: ey + eh, ex: ex + ew]\n",
    "            resized_eye = cv.resize(eye_roi, (desired_width, desired_height))\n",
    "            eye_vector_normalized = resized_eye.flatten() / 255.0\n",
    "            vecteurs_oeils.append(eye_vector_normalized)\n",
    "\n",
    "            if show_results:\n",
    "                # Dessiner un rectangle autour de l'œil détecté sur l'image en couleur\n",
    "                cv.rectangle(photo_personnalite, (x+ex, y+ey), (x+ex+ew, y+ey+eh), (0, 255, 0), 2)\n",
    "                \n",
    "                plt.imshow(photo_personnalite)\n",
    "                plt.imshow(cv.cvtColor(photo_personnalite, cv.COLOR_BGR2RGB))\n",
    "                plt.title(\"Image d'entré\")\n",
    "                plt.show()\n",
    "                \n",
    "                plt.imshow(cv.resize(eye_roi, (desired_width, desired_height)), cmap='gray')\n",
    "                plt.title(\"Œil Détecté\")\n",
    "                plt.show()\n",
    "                \n",
    "                plt.plot(eye_vector_normalized)\n",
    "                plt.title(\"Vecteur de l'Œil Normalisé\")\n",
    "                plt.show()\n",
    "\n",
    "    if show_results:\n",
    "        # Afficher l'image originale avec les rectangles dessinés autour des yeux\n",
    "        cv.imshow('Yeux détectés', photo_personnalite)\n",
    "        cv.waitKey(0)\n",
    "        cv.destroyAllWindows()\n",
    "        \n",
    "\n",
    "    return vecteurs_oeils\n",
    "\n",
    "# Note: Cette fonction ne peut pas être exécutée ici car nous n'avons pas accès à un environnement graphique,\n",
    "# mais vous pouvez l'exécuter dans votre environnement local après avoir chargé les cascades et l'image appropriée.\n"
   ],
   "metadata": {
    "collapsed": false,
    "ExecuteTime": {
     "end_time": "2024-02-07T11:20:15.703093600Z",
     "start_time": "2024-02-07T11:20:15.381601500Z"
    }
   },
   "id": "49c657a69998ec2"
  },
  {
   "cell_type": "code",
   "execution_count": 18,
   "outputs": [
    {
     "name": "stdout",
     "output_type": "stream",
     "text": [
      "Aucun œil détecté pour l'image 090781.jpg\n",
      "Aucun œil détecté pour l'image 142874.jpg\n",
      "Aucun œil détecté pour l'image 157602.jpg\n",
      "Aucun œil détecté pour l'image 008838.jpg\n",
      "Aucun œil détecté pour l'image 043469.jpg\n",
      "Aucun œil détecté pour l'image 067332.jpg\n",
      "Aucun œil détecté pour l'image 056784.jpg\n",
      "Aucun œil détecté pour l'image 073114.jpg\n",
      "Aucun œil détecté pour l'image 011904.jpg\n",
      "Aucun œil détecté pour l'image 061852.jpg\n",
      "Aucun œil détecté pour l'image 078965.jpg\n",
      "Aucun œil détecté pour l'image 094177.jpg\n",
      "Aucun œil détecté pour l'image 098549.jpg\n",
      "Aucun œil détecté pour l'image 134907.jpg\n",
      "Aucun œil détecté pour l'image 160984.jpg\n",
      "Aucun œil détecté pour l'image 081138.jpg\n",
      "Aucun œil détecté pour l'image 016740.jpg\n",
      "Aucun œil détecté pour l'image 072468.jpg\n",
      "Aucun œil détecté pour l'image 026339.jpg\n",
      "Aucun œil détecté pour l'image 129983.jpg\n",
      "Aucun œil détecté pour l'image 122837.jpg\n",
      "Aucun œil détecté pour l'image 005103.jpg\n",
      "Aucun œil détecté pour l'image 019513.jpg\n",
      "Aucun œil détecté pour l'image 073598.jpg\n",
      "Aucun œil détecté pour l'image 083196.jpg\n",
      "Aucun œil détecté pour l'image 086601.jpg\n",
      "Aucun œil détecté pour l'image 159961.jpg\n",
      "Aucun œil détecté pour l'image 028639.jpg\n",
      "Aucun œil détecté pour l'image 002162.jpg\n",
      "Aucun œil détecté pour l'image 020646.jpg\n",
      "Aucun œil détecté pour l'image 077612.jpg\n",
      "Aucun œil détecté pour l'image 118608.jpg\n",
      "Success : Les vecteurs pour le label 1 ont la même longueur.\n",
      "Success : Les vecteurs pour le label 2 ont la même longueur.\n",
      "Success : Les vecteurs pour le label 3 ont la même longueur.\n",
      "Success : Les vecteurs pour le label 4 ont la même longueur.\n",
      "Success : Les vecteurs pour le label 5 ont la même longueur.\n",
      "Success : Les vecteurs pour le label 6 ont la même longueur.\n",
      "Success : Les vecteurs pour le label 7 ont la même longueur.\n",
      "Success : Les vecteurs pour le label 8 ont la même longueur.\n",
      "Success : Les vecteurs pour le label 9 ont la même longueur.\n",
      "Success : Les vecteurs pour le label 10 ont la même longueur.\n",
      "Success : Les vecteurs pour le label 11 ont la même longueur.\n",
      "Success : Les vecteurs pour le label 12 ont la même longueur.\n",
      "Success : Les vecteurs pour le label 13 ont la même longueur.\n",
      "Success : Les vecteurs pour le label 14 ont la même longueur.\n",
      "Success : Les vecteurs pour le label 15 ont la même longueur.\n",
      "Success : Les vecteurs pour le label 16 ont la même longueur.\n",
      "Success : Les vecteurs pour le label 17 ont la même longueur.\n",
      "Success : Les vecteurs pour le label 18 ont la même longueur.\n",
      "Success : Les vecteurs pour le label 19 ont la même longueur.\n",
      "Success : Les vecteurs pour le label 20 ont la même longueur.\n",
      "Success : Les vecteurs pour le label 21 ont la même longueur.\n",
      "Success : Les vecteurs pour le label 22 ont la même longueur.\n",
      "Success : Les vecteurs pour le label 23 ont la même longueur.\n",
      "Success : Les vecteurs pour le label 24 ont la même longueur.\n",
      "Success : Les vecteurs pour le label 25 ont la même longueur.\n",
      "Success : Les vecteurs pour le label 26 ont la même longueur.\n",
      "Success : Les vecteurs pour le label 27 ont la même longueur.\n",
      "Success : Les vecteurs pour le label 28 ont la même longueur.\n",
      "Success : Les vecteurs pour le label 29 ont la même longueur.\n",
      "Success : Les vecteurs pour le label 30 ont la même longueur.\n"
     ]
    }
   ],
   "source": [
    "# Étape 1 : Lire le Fichier JSON\n",
    "\n",
    "import json\n",
    "\n",
    "# Charger le fichier JSON\n",
    "with open('../Data/sorted_by_label.json', 'r') as file:\n",
    "    data = json.load(file)\n",
    "\n",
    "# Utiliser seulement les 30 premiers labels\n",
    "selected_labels = list(data['data'].keys())[:nb_label]\n",
    "\n",
    "# Étape 2 : Calculer les Vecteurs pour Chaque Image\n",
    "\n",
    "vectors_by_class = {label: [] for label in selected_labels}\n",
    "\n",
    "for label in selected_labels:\n",
    "    for image_name in data['data'][label]:\n",
    "        img_path = f'../Image/img_align_celeba/img_align_celeba/{image_name}'\n",
    "        img = cv.imread(img_path)\n",
    "        # Assurez-vous que l'image a été chargée correctement\n",
    "        if img is not None:\n",
    "            vecteurs = vectoriser_oeil(img, show_results=False)\n",
    "            if vecteurs is not None:\n",
    "                vectors_by_class[label].extend(vecteurs)\n",
    "            else:\n",
    "                print(f\"Aucun œil détecté pour l'image {image_name}\")\n",
    "\n",
    "# Étape 3 : Calculer le Vecteur Moyen pour Chaque Label\n",
    "\n",
    "mean_vectors = {}\n",
    "for label, vectors in vectors_by_class.items():\n",
    "    # Vérifier que tous les vecteurs ont la même longueur\n",
    "    if all(len(vec) == len(vectors[0]) for vec in vectors):\n",
    "        mean_vectors[label] = np.mean(vectors, axis=0).tolist()\n",
    "        print(f\"Success : Les vecteurs pour le label {label} ont la même longueur.\")\n",
    "    else:\n",
    "        print(f\"Erreur : Les vecteurs pour le label {label} n'ont pas la même longueur.\")\n",
    "\n",
    "# Étape 4 : Enregistrer en Format JSON\n",
    "\n",
    "with open('../Data/mean_vectors.json', 'w') as json_file:\n",
    "    json.dump(mean_vectors, json_file, indent=4) # Indent = Nombre d'espaces à chaque colonne du fichier JSON (améliore la lecture du fichier)\n",
    "    \n",
    "# Ici, on obtient le vecteur moyen des yeux observé pour chaque label de personnes."
   ],
   "metadata": {
    "collapsed": false,
    "ExecuteTime": {
     "end_time": "2024-01-22T09:59:59.188883900Z",
     "start_time": "2024-01-22T09:59:53.687777300Z"
    }
   },
   "id": "e27e84317fa1a3f0"
  },
  {
   "cell_type": "code",
   "execution_count": null,
   "outputs": [],
   "source": [
    "# Étape 5 : Classification \n",
    "\n",
    "def classifier(nouveau_vecteur, vecteurs_moyens):\n",
    "    classe_plus_proche = None\n",
    "    distance_minimale = float('inf')\n",
    "\n",
    "    for label, vecteur_moyen in vecteurs_moyens.items():\n",
    "        distance = np.linalg.norm(np.array(nouveau_vecteur) - np.array(vecteur_moyen))\n",
    "        if distance < distance_minimale:\n",
    "            distance_minimale = distance\n",
    "            classe_plus_proche = label\n",
    "\n",
    "    return classe_plus_proche\n"
   ],
   "metadata": {
    "collapsed": false
   },
   "id": "f463e2bc885138ab"
  },
  {
   "cell_type": "code",
   "execution_count": 3,
   "outputs": [],
   "source": [
    "import numpy as np\n",
    "import matplotlib.pyplot as plt\n",
    "\n",
    "def classifier_avec_graphique(nouveau_vecteur, vecteurs_moyens):\n",
    "    distances = {}\n",
    "    for label, vecteur_moyen in vecteurs_moyens.items():\n",
    "        distance = np.linalg.norm(np.array(nouveau_vecteur) - np.array(vecteur_moyen))\n",
    "        distances[label] = distance\n",
    "\n",
    "    # Trouver la classe la plus proche\n",
    "    classe_plus_proche = min(distances, key=distances.get)\n",
    "\n",
    "    # Préparer les données pour le graphique\n",
    "    labels = list(distances.keys())\n",
    "    valeurs = list(distances.values())\n",
    "    couleurs = ['red' if label == classe_plus_proche else 'blue' for label in labels]\n",
    "\n",
    "    # Création du graphique\n",
    "    plt.figure(figsize=(10, 6))\n",
    "    plt.bar(labels, valeurs, color=couleurs)\n",
    "    plt.xlabel('Classes')\n",
    "    plt.ylabel('Distance au vecteur nouveau')\n",
    "    plt.title('Distances entre le nouveau vecteur et chaque vecteur moyen des classes')\n",
    "    plt.show()\n",
    "\n",
    "    return classe_plus_proche\n",
    "\n",
    "# Utilisation de la fonction\n",
    "# classe_predite = classifier_avec_graphique(nouveau_vecteur, vecteurs_moyens)\n"
   ],
   "metadata": {
    "collapsed": false,
    "ExecuteTime": {
     "end_time": "2024-02-07T11:20:27.242639800Z",
     "start_time": "2024-02-07T11:20:27.238053Z"
    }
   },
   "id": "2b0f0fc128df8d95"
  },
  {
   "cell_type": "code",
   "execution_count": 4,
   "outputs": [],
   "source": [
    "# Affichier une image aléatoire du label prédit.\n",
    "\n",
    "import matplotlib.pyplot as plt\n",
    "import cv2 as cv\n",
    "import random\n",
    "import json\n",
    "from PIL import Image\n",
    "\n",
    "# Chemin vers votre fichier JSON contenant les images par label\n",
    "fichier_images_json = '../Data/sorted_by_label.json'\n",
    "\n",
    "# Charger les noms des images à partir du fichier JSON\n",
    "with open(fichier_images_json, 'r') as file:\n",
    "    images_par_label = json.load(file)['data']\n",
    "    \n",
    "\n",
    "def pick_random_img_in_label(classe_predite): \n",
    "    if classe_predite in images_par_label:\n",
    "        # Vous pouvez choisir une image au hasard dans la liste pour ce label\n",
    "        nom_image = random.choice(images_par_label[classe_predite])\n",
    "        print(f\"On charge l'image {nom_image}\")\n",
    "        # Ou simplement prendre la première image\n",
    "        # nom_image = images_par_label[classe_predite][0]\n",
    "    \n",
    "        chemin_image = f'../Image/img_align_celeba/img_align_celeba/{nom_image}'  # Modifier selon l'organisation de vos données\n",
    "    \n",
    "        # Charger et afficher l'image\n",
    "        img_label = cv.imread(chemin_image)\n",
    "        if img_label is not None:\n",
    "            #plt.imshow(cv.cvtColor(img_label, cv.COLOR_BGR2RGB))\n",
    "            plt.imshow(img_label)\n",
    "            plt.title(f\"Image ({nom_image}) du label {classe_predite}\")\n",
    "            plt.show()\n",
    "            \n",
    "            cv.imshow(f'Image ({nom_image}) du label {classe_predite}',img_label)\n",
    "            cv.waitKey(0)\n",
    "            cv.destroyAllWindows()\n",
    "        else:\n",
    "            print(f\"Impossible de charger l'image {nom_image}.\")\n"
   ],
   "metadata": {
    "collapsed": false,
    "ExecuteTime": {
     "end_time": "2024-02-07T11:20:34.244937900Z",
     "start_time": "2024-02-07T11:20:34.200094900Z"
    }
   },
   "id": "ca0fd7ea9624946a"
  },
  {
   "cell_type": "code",
   "execution_count": 5,
   "outputs": [
    {
     "ename": "error",
     "evalue": "OpenCV(4.8.1) D:\\a\\opencv-python\\opencv-python\\opencv\\modules\\objdetect\\src\\cascadedetect.cpp:1689: error: (-215:Assertion failed) !empty() in function 'cv::CascadeClassifier::detectMultiScale'\n",
     "output_type": "error",
     "traceback": [
      "\u001B[1;31m---------------------------------------------------------------------------\u001B[0m",
      "\u001B[1;31merror\u001B[0m                                     Traceback (most recent call last)",
      "Cell \u001B[1;32mIn[5], line 14\u001B[0m\n\u001B[0;32m     11\u001B[0m     vecteurs_moyens \u001B[38;5;241m=\u001B[39m json\u001B[38;5;241m.\u001B[39mload(file)\n\u001B[0;32m     13\u001B[0m \u001B[38;5;66;03m#nouveau_vecteur = vectoriser_oeil(img, show_results=True, scale_factor=1.2)\u001B[39;00m\n\u001B[1;32m---> 14\u001B[0m nouveau_vecteur \u001B[38;5;241m=\u001B[39m \u001B[43mvectoriser_oeil_v2\u001B[49m\u001B[43m(\u001B[49m\u001B[43mimg\u001B[49m\u001B[43m,\u001B[49m\u001B[43m \u001B[49m\u001B[43mshow_results\u001B[49m\u001B[38;5;241;43m=\u001B[39;49m\u001B[38;5;28;43;01mTrue\u001B[39;49;00m\u001B[43m,\u001B[49m\u001B[43m \u001B[49m\u001B[43mscale_factor\u001B[49m\u001B[38;5;241;43m=\u001B[39;49m\u001B[38;5;241;43m1.2\u001B[39;49m\u001B[43m)\u001B[49m\n\u001B[0;32m     16\u001B[0m \u001B[38;5;66;03m# # Affichage de l'image d'entrée en couleur\u001B[39;00m\n\u001B[0;32m     17\u001B[0m \u001B[38;5;66;03m# cv.imshow(f\"Image ({img}) d'entrée \",img)\u001B[39;00m\n\u001B[0;32m     18\u001B[0m \u001B[38;5;66;03m# cv.waitKey(0)\u001B[39;00m\n\u001B[0;32m     19\u001B[0m \u001B[38;5;66;03m# cv.destroyAllWindows()\u001B[39;00m\n\u001B[0;32m     22\u001B[0m \u001B[38;5;28;01mif\u001B[39;00m nouveau_vecteur \u001B[38;5;129;01mis\u001B[39;00m \u001B[38;5;28;01mNone\u001B[39;00m \u001B[38;5;129;01mor\u001B[39;00m \u001B[38;5;28mlen\u001B[39m(nouveau_vecteur) \u001B[38;5;241m==\u001B[39m \u001B[38;5;241m0\u001B[39m:\n",
      "Cell \u001B[1;32mIn[2], line 10\u001B[0m, in \u001B[0;36mvectoriser_oeil_v2\u001B[1;34m(photo_personnalite, face_cascade, eye_cascade, desired_width, desired_height, scale_factor, min_neighbors, show_results)\u001B[0m\n\u001B[0;32m      8\u001B[0m \u001B[38;5;28;01mdef\u001B[39;00m \u001B[38;5;21mvectoriser_oeil_v2\u001B[39m(photo_personnalite, face_cascade \u001B[38;5;241m=\u001B[39m face_cascade, eye_cascade \u001B[38;5;241m=\u001B[39m eye_cascade, desired_width\u001B[38;5;241m=\u001B[39m\u001B[38;5;241m24\u001B[39m, desired_height\u001B[38;5;241m=\u001B[39m\u001B[38;5;241m24\u001B[39m, scale_factor\u001B[38;5;241m=\u001B[39m\u001B[38;5;241m1.3\u001B[39m, min_neighbors\u001B[38;5;241m=\u001B[39m\u001B[38;5;241m5\u001B[39m, show_results\u001B[38;5;241m=\u001B[39m\u001B[38;5;28;01mFalse\u001B[39;00m):\n\u001B[0;32m      9\u001B[0m     gray \u001B[38;5;241m=\u001B[39m cv\u001B[38;5;241m.\u001B[39mcvtColor(photo_personnalite, cv\u001B[38;5;241m.\u001B[39mCOLOR_BGR2GRAY)\n\u001B[1;32m---> 10\u001B[0m     faces \u001B[38;5;241m=\u001B[39m \u001B[43mface_cascade\u001B[49m\u001B[38;5;241;43m.\u001B[39;49m\u001B[43mdetectMultiScale\u001B[49m\u001B[43m(\u001B[49m\u001B[43mgray\u001B[49m\u001B[43m,\u001B[49m\u001B[43m \u001B[49m\u001B[43mscale_factor\u001B[49m\u001B[43m,\u001B[49m\u001B[43m \u001B[49m\u001B[43mmin_neighbors\u001B[49m\u001B[43m)\u001B[49m\n\u001B[0;32m     12\u001B[0m     vecteurs_oeils \u001B[38;5;241m=\u001B[39m []\n\u001B[0;32m     14\u001B[0m     \u001B[38;5;28;01mfor\u001B[39;00m (x, y, w, h) \u001B[38;5;129;01min\u001B[39;00m faces:\n",
      "\u001B[1;31merror\u001B[0m: OpenCV(4.8.1) D:\\a\\opencv-python\\opencv-python\\opencv\\modules\\objdetect\\src\\cascadedetect.cpp:1689: error: (-215:Assertion failed) !empty() in function 'cv::CascadeClassifier::detectMultiScale'\n"
     ]
    }
   ],
   "source": [
    "import json\n",
    "\n",
    "# Supposons que 'nouveau_vecteur' est le vecteur de la nouvelle image\n",
    "# et que 'vecteurs_moyens' est le dictionnaire de vos vecteurs moyens\n",
    "\n",
    "# Chemin vers votre fichier JSON\n",
    "fichier_json = '../Data/mean_vectors.json'\n",
    "\n",
    "# Charger les vecteurs moyens à partir du fichier JSON\n",
    "with open(fichier_json, 'r') as file:\n",
    "    vecteurs_moyens = json.load(file)\n",
    "    \n",
    "#nouveau_vecteur = vectoriser_oeil(img, show_results=True, scale_factor=1.2)\n",
    "nouveau_vecteur = vectoriser_oeil_v2(img, show_results=True, scale_factor=1.2)\n",
    "\n",
    "# # Affichage de l'image d'entrée en couleur\n",
    "# cv.imshow(f\"Image ({img}) d'entrée \",img)\n",
    "# cv.waitKey(0)\n",
    "# cv.destroyAllWindows()\n",
    "\n",
    "\n",
    "if nouveau_vecteur is None or len(nouveau_vecteur) == 0:\n",
    "    print(\"Aucun œil détecté ou erreur dans la vectorisation de l'image. Len = \", len(nouveau_vecteur))\n",
    "else:\n",
    "    # Classification\n",
    "    #classe_predite = classifier(nouveau_vecteur, vecteurs_moyens)\n",
    "    \n",
    "    # Classification avec un graphique\n",
    "    classe_predite = classifier_avec_graphique(nouveau_vecteur, vecteurs_moyens)\n",
    "\n",
    "    print(f\"La classe prédite pour la nouvelle image est : {classe_predite}\")\n",
    "    pick_random_img_in_label(classe_predite)"
   ],
   "metadata": {
    "collapsed": false,
    "ExecuteTime": {
     "end_time": "2024-02-07T11:20:41.967132500Z",
     "start_time": "2024-02-07T11:20:41.651395900Z"
    }
   },
   "id": "36c35f6c5ac0b29d"
  },
  {
   "cell_type": "markdown",
   "source": [
    "# Amélioration \n",
    "\n",
    "Afin d'améliorer la précision du programme on pourrait retenir les meilleurs résultats de distance par rapport aux yeux. Faire de même pour le nez, la bouche ou/et d'autres. Puis faire un score globale et choisir le label qui revient le plus souvent.\n",
    "\n",
    "Pour choisir les meilleurs résultat on pourrait prendre le meilleur et ceux qui sont à moins de 10 % du meilleur. Ou plus simplement les 5 meilleurs par exemple."
   ],
   "metadata": {
    "collapsed": false
   },
   "id": "bce8d01c35499661"
  },
  {
   "cell_type": "code",
   "execution_count": null,
   "outputs": [],
   "source": [],
   "metadata": {
    "collapsed": false
   },
   "id": "ae0b9b331b9ad64c"
  }
 ],
 "metadata": {
  "kernelspec": {
   "display_name": "Python 3",
   "language": "python",
   "name": "python3"
  },
  "language_info": {
   "codemirror_mode": {
    "name": "ipython",
    "version": 2
   },
   "file_extension": ".py",
   "mimetype": "text/x-python",
   "name": "python",
   "nbconvert_exporter": "python",
   "pygments_lexer": "ipython2",
   "version": "2.7.6"
  }
 },
 "nbformat": 4,
 "nbformat_minor": 5
}
